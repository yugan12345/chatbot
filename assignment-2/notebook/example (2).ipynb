{
 "cells": [
  {
   "cell_type": "markdown",
   "id": "9f1545f3",
   "metadata": {},
   "source": [
    "# Competitive Programming Assistant\n",
    "Type 'exit' or 'quit' to end the session"
   ]
  },
  {
   "cell_type": "code",
   "execution_count": 1,
   "id": "40103509",
   "metadata": {},
   "outputs": [
    {
     "name": "stderr",
     "output_type": "stream",
     "text": [
      "c:\\Users\\tusha\\AppData\\Local\\Programs\\Python\\Python311\\Lib\\site-packages\\torchvision\\datapoints\\__init__.py:12: UserWarning: The torchvision.datapoints and torchvision.transforms.v2 namespaces are still Beta. While we do not expect major breaking changes, some APIs may still change according to user feedback. Please submit any feedback you may have in this issue: https://github.com/pytorch/vision/issues/6753, and you can also check out https://github.com/pytorch/vision/issues/7319 to learn more about the APIs that we suspect might involve future changes. You can silence this warning by calling torchvision.disable_beta_transforms_warning().\n",
      "  warnings.warn(_BETA_TRANSFORMS_WARNING)\n",
      "c:\\Users\\tusha\\AppData\\Local\\Programs\\Python\\Python311\\Lib\\site-packages\\torchvision\\transforms\\v2\\__init__.py:54: UserWarning: The torchvision.datapoints and torchvision.transforms.v2 namespaces are still Beta. While we do not expect major breaking changes, some APIs may still change according to user feedback. Please submit any feedback you may have in this issue: https://github.com/pytorch/vision/issues/6753, and you can also check out https://github.com/pytorch/vision/issues/7319 to learn more about the APIs that we suspect might involve future changes. You can silence this warning by calling torchvision.disable_beta_transforms_warning().\n",
      "  warnings.warn(_BETA_TRANSFORMS_WARNING)\n"
     ]
    },
    {
     "name": "stdout",
     "output_type": "stream",
     "text": [
      "Building knowledge base...\n",
      "Knowledge base built with 8 problems\n"
     ]
    }
   ],
   "source": [
    "from rag_chatbot import Chatbot\n",
    "bot = Chatbot()"
   ]
  },
  {
   "cell_type": "code",
   "execution_count": 2,
   "id": "7fee51a0",
   "metadata": {},
   "outputs": [
    {
     "name": "stdout",
     "output_type": "stream",
     "text": [
      "Competitive Programming Assistant\n",
      "Type 'exit' to quit\n",
      "\n",
      "\n",
      "You: Hi\n",
      "\n",
      "\n",
      "Bot: Hello! I'm your competitive programming assistant. Please provide a problem ID (e.g., 2093I) to get started.\n",
      "\n",
      "================================================================================\n",
      "\n",
      "\n",
      "You: I have a doubt in 2087B\n",
      "\n",
      "\n",
      "Bot: Loaded problem 2087B. You can ask about:\n",
      "- The problem statement\n",
      "- Input/output specifications\n",
      "- Solution approach\n",
      "\n",
      "================================================================================\n",
      "\n",
      "\n",
      "You: Solution approach in short\n",
      "\n",
      "\n",
      "Bot: The solution approach for Problem 2087B: B. Showmatch can be described in short as follows:\n",
      "\n",
      "**Check if pairs of adjacent elements can be the best opponents**\n",
      "\n",
      "The key insight is that two participants can only be the best opponents for each other if there is no third participant whose rating is strictly between the ratings of these two participants. This means that in sorted order, only pairs of adjacent elements can be the best opponents.\n",
      "\n",
      "**Sort the sequence and divide it into pairs**\n",
      "\n",
      "The sorted sequence can only be divided into pairs of adjacent elements in one way: the first element is paired with the second, the third with the fourth, and so on. This is because each pair of adjacent elements can only be the best opponents for each other.\n",
      "\n",
      "**Check if the division is valid**\n",
      "\n",
      "For each pair of participants that are adjacent but do not belong to the same pair in the division (a2 and a3, a4 and a5, and so on), we need to check whether this pair makes the pairs in the division invalid. If |a3−a2|<|a2−a1|, then participant 1 is not the best opponent for participant 2. Similarly, if |a3−a2|<|a4−a3|, then participant 4 is not the best opponent for participant 3.\n",
      "\n",
      "This approach is similar to the solution approach for Problem 2087A: A. Password Generator, where we also need to check if a certain condition is met for each pair of elements. In this case, we need to check if the pairs of adjacent elements can be the best opponents for each other.\n",
      "\n",
      "By following this approach, we can determine whether a valid pairing exists for the participants in the showmatch.\n",
      "\n",
      "================================================================================\n",
      "\n"
     ]
    }
   ],
   "source": [
    "print(\"Competitive Programming Assistant\")\n",
    "print(\"Type 'exit' to quit\\n\")\n",
    "while True:\n",
    "    try:\n",
    "        user_input = input(\"You: \")\n",
    "        if user_input.lower() in ['exit', 'quit']:\n",
    "            break\n",
    "\n",
    "        print(f\"\\nYou: {user_input}\\n\")   \n",
    "        response = bot.respond(user_input)\n",
    "        print(\"\\nBot:\", response)\n",
    "        print(\"\\n\" + \"=\"*80 + \"\\n\")\n",
    "    except KeyboardInterrupt:\n",
    "        break\n",
    "    except Exception as e:\n",
    "        print(f\"Error: {str(e)}\")\n",
    "        continue"
   ]
  },
  {
   "cell_type": "markdown",
   "id": "d0408b31",
   "metadata": {},
   "source": [
    "## RAG EVALUATOR"
   ]
  },
  {
   "cell_type": "code",
   "execution_count": 3,
   "id": "e1421999",
   "metadata": {},
   "outputs": [
    {
     "name": "stderr",
     "output_type": "stream",
     "text": [
      "[nltk_data] Downloading package punkt to\n",
      "[nltk_data]     C:\\Users\\tusha\\AppData\\Roaming\\nltk_data...\n",
      "[nltk_data]   Package punkt is already up-to-date!\n"
     ]
    },
    {
     "name": "stdout",
     "output_type": "stream",
     "text": [
      "Building knowledge base...\n",
      "Knowledge base built with 8 problems\n",
      "Evaluation Summary:\n",
      "- Response diversity: 0.89 score (higher is better)\n",
      "- Context precision: 0.33 (higher is better)\n",
      "- Context recall: 0.50 (higher is better)\n",
      "Based on 2 test queries\n",
      "\n",
      "Detailed results:\n",
      "Diversity: {'avg_similarity': 0.10893855374960143, 'num_responses': 2}\n",
      "Context Usage: {'avg_precision': 0.3333333333333333, 'avg_recall': 0.5, 'num_queries': 2}\n"
     ]
    }
   ],
   "source": [
    "from rag_eval import SimpleChatbotEvaluator\n",
    "\n",
    "test_queries = [\n",
    "        (\"How to solve DP problems?\", [\"2087E\", \"2087F\"]),\n",
    "        (\"Best way to solve greedy problems?\", [\"2087C\", \"2087G\"]),\n",
    "    ]\n",
    "    \n",
    "from rag_chatbot import Chatbot\n",
    "chatbot = Chatbot()\n",
    "    \n",
    "evaluator = SimpleChatbotEvaluator(chatbot, test_queries)\n",
    "results = evaluator.evaluate()\n",
    "    \n",
    "print(results['summary'])\n",
    "print(\"\\nDetailed results:\")\n",
    "print(f\"Diversity: {results['diversity']}\")\n",
    "print(f\"Context Usage: {results['context_usage']}\")"
   ]
  }
 ],
 "metadata": {
  "kernelspec": {
   "display_name": "Python 3",
   "language": "python",
   "name": "python3"
  },
  "language_info": {
   "codemirror_mode": {
    "name": "ipython",
    "version": 3
   },
   "file_extension": ".py",
   "mimetype": "text/x-python",
   "name": "python",
   "nbconvert_exporter": "python",
   "pygments_lexer": "ipython3",
   "version": "3.11.4"
  }
 },
 "nbformat": 4,
 "nbformat_minor": 5
}
